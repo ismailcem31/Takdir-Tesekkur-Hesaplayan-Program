{
 "cells": [
  {
   "cell_type": "code",
   "execution_count": null,
   "id": "7d69fbae",
   "metadata": {},
   "outputs": [],
   "source": [
    "ortalama = float(input(\"Öğrencinin not ortalamasını girin: \"))\n",
    " \n",
    "# Belge durumunu kontrol et\n",
    "if ortalama < 70:\n",
    "    belge = \"Belge yok\"\n",
    "elif ortalama < 85:\n",
    "    belge = \"Teşekkür\"\n",
    "else:\n",
    "    belge = \"Takdir\"\n",
    " \n",
    "# Sonucu yazdır\n",
    "print(\"Öğrencinin belge durumu:\", belge)"
   ]
  }
 ],
 "metadata": {
  "kernelspec": {
   "display_name": "Python 3 (ipykernel)",
   "language": "python",
   "name": "python3"
  },
  "language_info": {
   "codemirror_mode": {
    "name": "ipython",
    "version": 3
   },
   "file_extension": ".py",
   "mimetype": "text/x-python",
   "name": "python",
   "nbconvert_exporter": "python",
   "pygments_lexer": "ipython3",
   "version": "3.11.3"
  }
 },
 "nbformat": 4,
 "nbformat_minor": 5
}
